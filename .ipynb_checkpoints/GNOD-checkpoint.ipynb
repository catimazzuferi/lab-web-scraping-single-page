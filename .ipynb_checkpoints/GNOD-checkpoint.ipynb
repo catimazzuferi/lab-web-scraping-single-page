{
 "cells": [
  {
   "cell_type": "code",
   "execution_count": 1,
   "id": "8f1323b4",
   "metadata": {},
   "outputs": [],
   "source": [
    "import pandas as pd"
   ]
  },
  {
   "cell_type": "markdown",
   "id": "3f988eea",
   "metadata": {},
   "source": [
    "#importo mi data con clusters"
   ]
  },
  {
   "cell_type": "code",
   "execution_count": 2,
   "id": "37eaf1fe",
   "metadata": {},
   "outputs": [
    {
     "data": {
      "text/plain": [
       "(34383, 3)"
      ]
     },
     "metadata": {},
     "output_type": "display_data"
    }
   ],
   "source": [
    "data_clusters = pd.read_csv('data_clusters.csv')\n",
    "display(data_clusters.shape)\n",
    "#data_clusters.head()"
   ]
  },
  {
   "cell_type": "code",
   "execution_count": 3,
   "id": "33f58a3f",
   "metadata": {},
   "outputs": [],
   "source": [
    "data_clusters.columns = ['Song_name', 'Artist_name', 'Clusters']"
   ]
  },
  {
   "cell_type": "code",
   "execution_count": 4,
   "id": "98bb09e7",
   "metadata": {},
   "outputs": [
    {
     "data": {
      "text/html": [
       "<div>\n",
       "<style scoped>\n",
       "    .dataframe tbody tr th:only-of-type {\n",
       "        vertical-align: middle;\n",
       "    }\n",
       "\n",
       "    .dataframe tbody tr th {\n",
       "        vertical-align: top;\n",
       "    }\n",
       "\n",
       "    .dataframe thead th {\n",
       "        text-align: right;\n",
       "    }\n",
       "</style>\n",
       "<table border=\"1\" class=\"dataframe\">\n",
       "  <thead>\n",
       "    <tr style=\"text-align: right;\">\n",
       "      <th></th>\n",
       "      <th>Song_name</th>\n",
       "      <th>Artist_name</th>\n",
       "      <th>Clusters</th>\n",
       "    </tr>\n",
       "  </thead>\n",
       "  <tbody>\n",
       "    <tr>\n",
       "      <th>0</th>\n",
       "      <td>If I Ever Feel Better</td>\n",
       "      <td>Phoenix</td>\n",
       "      <td>11</td>\n",
       "    </tr>\n",
       "    <tr>\n",
       "      <th>1</th>\n",
       "      <td>Dance To The Underground</td>\n",
       "      <td>Radio 4</td>\n",
       "      <td>1</td>\n",
       "    </tr>\n",
       "    <tr>\n",
       "      <th>2</th>\n",
       "      <td>How We Do</td>\n",
       "      <td>Mount Sims</td>\n",
       "      <td>11</td>\n",
       "    </tr>\n",
       "    <tr>\n",
       "      <th>3</th>\n",
       "      <td>Fuck the Pain Away</td>\n",
       "      <td>Peaches</td>\n",
       "      <td>7</td>\n",
       "    </tr>\n",
       "    <tr>\n",
       "      <th>4</th>\n",
       "      <td>Street Surgery 2</td>\n",
       "      <td>Zongamin</td>\n",
       "      <td>6</td>\n",
       "    </tr>\n",
       "  </tbody>\n",
       "</table>\n",
       "</div>"
      ],
      "text/plain": [
       "                  Song_name Artist_name  Clusters\n",
       "0     If I Ever Feel Better     Phoenix        11\n",
       "1  Dance To The Underground     Radio 4         1\n",
       "2                 How We Do  Mount Sims        11\n",
       "3        Fuck the Pain Away     Peaches         7\n",
       "4          Street Surgery 2    Zongamin         6"
      ]
     },
     "execution_count": 4,
     "metadata": {},
     "output_type": "execute_result"
    }
   ],
   "source": [
    "data_clusters.head()"
   ]
  },
  {
   "cell_type": "markdown",
   "id": "37dc3964",
   "metadata": {},
   "source": [
    "#importo mi top 150"
   ]
  },
  {
   "cell_type": "code",
   "execution_count": 5,
   "id": "059decfa",
   "metadata": {},
   "outputs": [
    {
     "data": {
      "text/plain": [
       "(150, 2)"
      ]
     },
     "metadata": {},
     "output_type": "display_data"
    }
   ],
   "source": [
    "top_songs = pd.read_csv('top_songs.csv')\n",
    "display(top_songs.shape)\n",
    "#top_songs.head()"
   ]
  },
  {
   "cell_type": "code",
   "execution_count": 6,
   "id": "2e363f2d",
   "metadata": {},
   "outputs": [],
   "source": [
    "top_songs.columns = ['Song_name', 'Artist_name']"
   ]
  },
  {
   "cell_type": "code",
   "execution_count": 17,
   "id": "fce4d51a",
   "metadata": {},
   "outputs": [
    {
     "data": {
      "text/html": [
       "<div>\n",
       "<style scoped>\n",
       "    .dataframe tbody tr th:only-of-type {\n",
       "        vertical-align: middle;\n",
       "    }\n",
       "\n",
       "    .dataframe tbody tr th {\n",
       "        vertical-align: top;\n",
       "    }\n",
       "\n",
       "    .dataframe thead th {\n",
       "        text-align: right;\n",
       "    }\n",
       "</style>\n",
       "<table border=\"1\" class=\"dataframe\">\n",
       "  <thead>\n",
       "    <tr style=\"text-align: right;\">\n",
       "      <th></th>\n",
       "      <th>Song_name</th>\n",
       "      <th>Artist_name</th>\n",
       "    </tr>\n",
       "  </thead>\n",
       "  <tbody>\n",
       "    <tr>\n",
       "      <th>0</th>\n",
       "      <td>lovin on me</td>\n",
       "      <td>Jack Harlow</td>\n",
       "    </tr>\n",
       "    <tr>\n",
       "      <th>1</th>\n",
       "      <td>lil boo thang</td>\n",
       "      <td>Paul Russell</td>\n",
       "    </tr>\n",
       "    <tr>\n",
       "      <th>2</th>\n",
       "      <td>i remember everything (feat. kacey musgraves)</td>\n",
       "      <td>Zach Bryan</td>\n",
       "    </tr>\n",
       "    <tr>\n",
       "      <th>3</th>\n",
       "      <td>white horse</td>\n",
       "      <td>Chris Stapleton</td>\n",
       "    </tr>\n",
       "    <tr>\n",
       "      <th>4</th>\n",
       "      <td>save me (with lainey wilson)</td>\n",
       "      <td>Jelly Roll</td>\n",
       "    </tr>\n",
       "  </tbody>\n",
       "</table>\n",
       "</div>"
      ],
      "text/plain": [
       "                                       Song_name      Artist_name\n",
       "0                                    lovin on me      Jack Harlow\n",
       "1                                  lil boo thang     Paul Russell\n",
       "2  i remember everything (feat. kacey musgraves)       Zach Bryan\n",
       "3                                    white horse  Chris Stapleton\n",
       "4                   save me (with lainey wilson)       Jelly Roll"
      ]
     },
     "execution_count": 17,
     "metadata": {},
     "output_type": "execute_result"
    }
   ],
   "source": [
    "top_songs.head()"
   ]
  },
  {
   "cell_type": "markdown",
   "id": "2720c15e",
   "metadata": {},
   "source": [
    "#Cargar modelo KMeans\n",
    "#Cargar escalador de datos"
   ]
  },
  {
   "cell_type": "code",
   "execution_count": 8,
   "id": "16f401ad",
   "metadata": {},
   "outputs": [],
   "source": [
    "import pickle\n",
    "\n",
    "kmeans = pickle.load(open('kmean.pkl', 'rb'))\n",
    "dataspotify_sca = pickle.load(open('scaler.pkl', 'rb'))\n"
   ]
  },
  {
   "cell_type": "code",
   "execution_count": 9,
   "id": "c343d608",
   "metadata": {},
   "outputs": [],
   "source": [
    "from pandas import json_normalize"
   ]
  },
  {
   "cell_type": "code",
   "execution_count": 10,
   "id": "a324978c",
   "metadata": {},
   "outputs": [],
   "source": [
    "secrets_file = open(\"secrets.txt\",\"r\")"
   ]
  },
  {
   "cell_type": "code",
   "execution_count": 11,
   "id": "b0d95547",
   "metadata": {},
   "outputs": [],
   "source": [
    "string = secrets_file.read()"
   ]
  },
  {
   "cell_type": "code",
   "execution_count": 12,
   "id": "604b0c20",
   "metadata": {},
   "outputs": [],
   "source": [
    "secrets_dict={}\n",
    "for line in string.split('\\n'):\n",
    "    if len(line) > 0:\n",
    "        #print(line.split(':'))\n",
    "        secrets_dict[line.split(':')[0]]=line.split(':')[1].strip()"
   ]
  },
  {
   "cell_type": "code",
   "execution_count": 13,
   "id": "44b7978a",
   "metadata": {},
   "outputs": [],
   "source": [
    "import spotipy\n",
    "from spotipy.oauth2 import SpotifyClientCredentials\n",
    "\n",
    "#Initialize SpotiPy with user credentials\n",
    "sp = spotipy.Spotify(auth_manager=SpotifyClientCredentials(client_id=secrets_dict['clientid'],\n",
    "                                                           client_secret=secrets_dict['clientsecret']))"
   ]
  },
  {
   "cell_type": "markdown",
   "id": "44057c69",
   "metadata": {},
   "source": [
    "#creo mi funcion"
   ]
  },
  {
   "cell_type": "code",
   "execution_count": 15,
   "id": "925b2997",
   "metadata": {},
   "outputs": [
    {
     "name": "stdout",
     "output_type": "stream",
     "text": [
      "Ingresa el nombre de una canción: I can't fell my face\n",
      "¿Es esta tu canción? 'I Cant Feel My Face' de GOTOU寄生獣 (yes/no): yes\n"
     ]
    },
    {
     "name": "stderr",
     "output_type": "stream",
     "text": [
      "/var/folders/d9/_ctzl6l91nb3xf6zfxnk4py80000gn/T/ipykernel_28651/83482592.py:44: FutureWarning: The frame.append method is deprecated and will be removed from pandas in a future version. Use pandas.concat instead.\n",
      "  cancioningre = cancioningre.append(row, ignore_index=True)\n"
     ]
    },
    {
     "name": "stdout",
     "output_type": "stream",
     "text": [
      "Te recomiendo escuchar 'near dark' de Burial.\n"
     ]
    }
   ],
   "source": [
    "import random\n",
    "def recomendar(top_songs, cancion_ingresada, data_clusters):\n",
    "    #Paso a minuscula el nombre de las canciones\n",
    "    cancion_ingresada = cancion_ingresada.lower()\n",
    "    top_songs['Song_name'] = top_songs['Song_name'].str.lower()\n",
    "    data_clusters['Song_name'] = data_clusters['Song_name'].str.lower()\n",
    "    #Chequeo si la cancion q ingrese esta en mi top\n",
    "    if cancion_ingresada in top_songs['Song_name'].values:\n",
    "        canciones_disponibles = top_songs[top_songs['Song_name'] != cancion_ingresada]\n",
    "        cancion_recomendada = random.choice(canciones_disponibles['Song_name'].values)\n",
    "        #Si esta le devuelvo otra random del top\n",
    "        return f\"Te recomiendo escuchar '{cancion_recomendada}' de {top_songs.loc[top_songs['Song_name'] == cancion_recomendada, 'Artist_name'].values[0]}.\"\n",
    "    else:\n",
    "        #si no esta la busco en spotify\n",
    "        results = sp.search(q=cancion_ingresada, limit=50)\n",
    "        tracks = json_normalize(results[\"tracks\"][\"items\"])\n",
    "        #creo un dataframe para poder ver todos los artistas\n",
    "        def expand_list_dict(row):\n",
    "            df = json_normalize(row['artists'])\n",
    "            df['song_id'] = row['id']\n",
    "            return df\n",
    "        #llamo a mi funcion para separar los artistas\n",
    "        tracks['artists_dfs'] = tracks.apply(expand_list_dict, axis=1)\n",
    "        artist_df = pd.DataFrame(columns=['external_urls.spotify', 'href', 'id', 'name', 'type', 'uri', 'song_id'])\n",
    "        #Uno mi nuevo data frame con mi viejo\n",
    "        for mini_df in tracks['artists_dfs']:\n",
    "            artist_df = pd.concat([artist_df, mini_df], axis=0)\n",
    "        #Uno todo junto\n",
    "        df_merged = pd.merge(left=tracks,\n",
    "                    right=artist_df,\n",
    "                    how='inner',\n",
    "                    left_on='id',\n",
    "                    right_on='song_id')\n",
    "        #Me quedo solo con las columnas que necesito\n",
    "        df_final = df_merged[['name_x', 'name_y', 'song_id']]\n",
    "        df_final.columns = ['Song_name', 'Artist_name', 'song_id']\n",
    " \n",
    "        cancioningre = pd.DataFrame(columns=['Song_name', 'Artist_name', 'song_id'])\n",
    "        # Iterar sobre las filas \n",
    "        for index, row in df_final.iterrows():\n",
    "            row_confirmation = input(f\"¿Es esta tu canción? '{row['Song_name']}' de {row['Artist_name']} (yes/no): \").lower()\n",
    "        # Si la respuesta es sí, agregar la fila al nuevo DataFrame y salir del bucle\n",
    "            if row_confirmation == 'yes':\n",
    "                cancioningre = cancioningre.append(row, ignore_index=True)\n",
    "                break\n",
    "            elif row_confirmation != 'no':\n",
    "                print(\"Respuesta no válida. Por favor, responde 'yes' o 'no'.\")\n",
    "\n",
    "        cancionfeatures = sp.audio_features(cancioningre['song_id'])\n",
    "        cancionfeaturesdf = json_normalize(cancionfeatures)\n",
    "        cancionfinal = pd.merge(left=cancioningre,\n",
    "                        right=cancionfeaturesdf,\n",
    "                        how='inner',\n",
    "                        left_on='song_id',\n",
    "                        right_on='id')  \n",
    "        #Ahora quiero escalar y sacar mi cluster\n",
    "        cancionfinal2 = cancionfinal.select_dtypes(include=['number'])\n",
    "        cancionfinal2_esc = dataspotify_sca.transform(cancionfinal2)\n",
    "        clusters = kmeans.predict(cancionfinal2_esc)\n",
    "        pd.Series(clusters).value_counts().sort_index()\n",
    "        cancionfinal['Clusters']=clusters\n",
    "        cancionfinal_cluster = cancionfinal[['Song_name','Artist_name','Clusters']]\n",
    "        \n",
    "        onlycluster = cancionfinal_cluster['Clusters'].values[0]\n",
    "        # Voy a filtrar y me quedo solo con las canciones con el mismo cluster\n",
    "        onlysongs = data_clusters[data_clusters['Clusters'] == onlycluster]       \n",
    "        cancion_recomendada = random.choice(onlysongs['Song_name'].values)\n",
    "        return f\"Te recomiendo escuchar '{cancion_recomendada}' de {onlysongs.loc[onlysongs['Song_name'] == cancion_recomendada, 'Artist_name'].values[0]}.\"\n",
    "\n",
    "cancion_ingresada = input(\"Ingresa el nombre de una canción: \")\n",
    "resultado = recomendar(top_songs, cancion_ingresada, data_clusters)\n",
    "print(resultado)"
   ]
  },
  {
   "cell_type": "code",
   "execution_count": null,
   "id": "2d260810",
   "metadata": {},
   "outputs": [],
   "source": []
  },
  {
   "cell_type": "code",
   "execution_count": null,
   "id": "d704e168",
   "metadata": {},
   "outputs": [],
   "source": []
  }
 ],
 "metadata": {
  "kernelspec": {
   "display_name": "Python 3 (ipykernel)",
   "language": "python",
   "name": "python3"
  },
  "language_info": {
   "codemirror_mode": {
    "name": "ipython",
    "version": 3
   },
   "file_extension": ".py",
   "mimetype": "text/x-python",
   "name": "python",
   "nbconvert_exporter": "python",
   "pygments_lexer": "ipython3",
   "version": "3.11.4"
  }
 },
 "nbformat": 4,
 "nbformat_minor": 5
}
